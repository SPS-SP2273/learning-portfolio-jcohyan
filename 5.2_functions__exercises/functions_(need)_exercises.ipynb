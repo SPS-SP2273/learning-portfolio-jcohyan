{
 "cells": [
  {
   "attachments": {},
   "cell_type": "markdown",
   "id": "123456",
   "metadata": {},
   "source": [
    "<div style=\"text-align:left;font-size:2em\"><span style=\"font-weight:bolder;font-size:1.25em\">SP2273 | Learning Portfolio</span><br><br><span style=\"font-weight:bold;color:darkred\">Functions (Need) Exercises</span></div>"
   ]
  },
  {
   "cell_type": "markdown",
   "id": "8186527b",
   "metadata": {
    "vscode": {
     "languageId": "plaintext"
    }
   },
   "source": [
    "### Exercise 1 (Do you know why )"
   ]
  },
  {
   "cell_type": "code",
   "execution_count": 1,
   "id": "1cd79def",
   "metadata": {},
   "outputs": [],
   "source": [
    "def greeting(name):\n",
    "    if name == 'Batman':\n",
    "        return 'Hello Batman! So, nice to meet you!'\n",
    "    return f'Hello {name}!'"
   ]
  },
  {
   "cell_type": "markdown",
   "id": "10563d4b",
   "metadata": {},
   "source": [
    "Return has python jump out of the function with the return value. The return value can be assigned to a name or used directly "
   ]
  },
  {
   "cell_type": "markdown",
   "id": "cc36ec2c",
   "metadata": {},
   "source": []
  },
  {
   "cell_type": "markdown",
   "id": "d61d2283",
   "metadata": {},
   "source": [
    "### Exercise 2"
   ]
  },
  {
   "cell_type": "code",
   "execution_count": 2,
   "id": "8dfbcc3c",
   "metadata": {},
   "outputs": [],
   "source": [
    "import numpy as np"
   ]
  },
  {
   "cell_type": "code",
   "execution_count": 21,
   "id": "24b6ab0b",
   "metadata": {},
   "outputs": [
    {
     "name": "stdout",
     "output_type": "stream",
     "text": [
      "Your BMI is 7.50, which falls under the category: Underweight\n"
     ]
    }
   ],
   "source": [
    "def get_value(question):\n",
    "    try:\n",
    "        value = float(input(question))\n",
    "        if value <=0:\n",
    "            print(\"Please enter a postitive number\")\n",
    "        else:\n",
    "            return value\n",
    "    except:\n",
    "        print(\"Please enter a number\")\n",
    "\n",
    "\n",
    "def calculate_bmi(weight, height):\n",
    "    BMI = weight / (height ** 2)\n",
    "    if BMI < 18.5:\n",
    "        category = \"Underweight\"\n",
    "    elif BMI <= 24.9:\n",
    "        category =  \"Normal weight\"\n",
    "    elif BMI <= 29.9:\n",
    "        category = \"Overweight\"\n",
    "    else:\n",
    "        category = \"Obese\"\n",
    "    return BMI, category\n",
    "\n",
    "weight = get_value(\"What is your weight in kg?\")\n",
    "height = get_value(f\"What is your height in m?\")\n",
    "\n",
    "BMI, category = calculate_bmi(weight,height)\n",
    "print(f\"Your BMI is {BMI:.2f}, which falls under the category: {category}\")\n"
   ]
  },
  {
   "cell_type": "markdown",
   "id": "7c4a7ff8",
   "metadata": {},
   "source": [
    "### Exercise 3 (Finding the factorial)"
   ]
  },
  {
   "cell_type": "code",
   "execution_count": 58,
   "id": "8d34a953",
   "metadata": {},
   "outputs": [
    {
     "name": "stdout",
     "output_type": "stream",
     "text": [
      "The factorial of 35 is 10333147966386144929666651337523200000000\n"
     ]
    }
   ],
   "source": [
    "def get_integer(question):\n",
    "    while True:\n",
    "        try:\n",
    "            n = int(input(question))\n",
    "            if n <0:\n",
    "                print(\"Oh no! Please enter a positive number\")\n",
    "            else:\n",
    "                return n \n",
    "        except ValueError:\n",
    "            print (\"Please enter a valid number\")\n",
    "            \n",
    "def factorial(n):\n",
    "    result = 1\n",
    "    for i in range(1,n+1):\n",
    "        result *= i\n",
    "    return result\n",
    "\n",
    "n = get_integer(f\"Enter an integer\")\n",
    "print(f\"The factorial of {n} is {factorial(n)}\")"
   ]
  }
 ],
 "metadata": {
  "kernelspec": {
   "display_name": "base",
   "language": "python",
   "name": "python3"
  },
  "language_info": {
   "codemirror_mode": {
    "name": "ipython",
    "version": 3
   },
   "file_extension": ".py",
   "mimetype": "text/x-python",
   "name": "python",
   "nbconvert_exporter": "python",
   "pygments_lexer": "ipython3",
   "version": "3.13.5"
  },
  "toc": {
   "base_numbering": 1,
   "nav_menu": {},
   "number_sections": true,
   "sideBar": true,
   "skip_h1_title": false,
   "title_cell": "Table of Contents",
   "title_sidebar": "Contents",
   "toc_cell": false,
   "toc_position": {},
   "toc_section_display": true,
   "toc_window_display": false
  }
 },
 "nbformat": 4,
 "nbformat_minor": 5
}
