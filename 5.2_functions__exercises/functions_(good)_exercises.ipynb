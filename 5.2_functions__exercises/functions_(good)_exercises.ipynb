{
 "cells": [
  {
   "attachments": {},
   "cell_type": "markdown",
   "id": "123456",
   "metadata": {},
   "source": [
    "<div style=\"text-align:left;font-size:2em\"><span style=\"font-weight:bolder;font-size:1.25em\">SP2273 | Learning Portfolio</span><br><br><span style=\"font-weight:bold;color:darkred\">Functions (Good) Exercises</span></div>"
   ]
  },
  {
   "cell_type": "markdown",
   "id": "a9ae9317",
   "metadata": {
    "vscode": {
     "languageId": "plaintext"
    }
   },
   "source": [
    "### Exercise 1"
   ]
  },
  {
   "cell_type": "code",
   "execution_count": 9,
   "id": "41e3b6b3",
   "metadata": {},
   "outputs": [
    {
     "name": "stdout",
     "output_type": "stream",
     "text": [
      "Invalid input. Defaulting to Fahrenheit\n",
      "43.0°C is 109.40°F\n"
     ]
    }
   ],
   "source": [
    "while True:\n",
    "    try:\n",
    "        temperature_celsius = float(input(\"Enter your temperature in degrees celsius\"))\n",
    "        break \n",
    "    except ValueError:\n",
    "        print(\"Please enter a valid number!\")\n",
    "\n",
    "target_scale = input(f\"Would you like to convert {temperature_celsius}°C to Fahrenheit or Kelvin, enter F or K\")\n",
    "    \n",
    "\n",
    "def convert_celsius(number, scale=\"F\"):\n",
    "    if scale == \"F\":\n",
    "        return number * 9/5 + 32\n",
    "    elif scale == \"K\":\n",
    "        return number + 273.15 \n",
    "    else:\n",
    "        print(\"Invalid input. Defaulting to Fahrenheit\")\n",
    "        return number * 9/5 + 32\n",
    "\n",
    "\n",
    "result  = convert_celsius(temperature_celsius, target_scale)\n",
    "print(f\"{temperature_celsius}°C is {result:.2f}°{target_scale if target_scale in [\"F\", \"K\"] else \"F\"}\")"
   ]
  },
  {
   "cell_type": "markdown",
   "id": "d3dc496a",
   "metadata": {},
   "source": [
    "### Exercise 2"
   ]
  },
  {
   "cell_type": "code",
   "execution_count": 10,
   "id": "9170577c",
   "metadata": {},
   "outputs": [
    {
     "name": "stdout",
     "output_type": "stream",
     "text": [
      "Invalid input. Defaulting to Celsius\n",
      "3.0°F is -16.11°C\n"
     ]
    }
   ],
   "source": [
    "while True:\n",
    "    try:\n",
    "        temperature_fahrenheit = float(input(\"Enter your temperature in Degrees Fahrenheit\"))\n",
    "        break \n",
    "    except ValueError:\n",
    "        print(\"Please enter a valid number!\")\n",
    "\n",
    "target_scale = input(f\"Would you like to convert {temperature_fahrenheit}°F to Celsius or Kelvin, enter C or K\")\n",
    "\n",
    "def convert_fahrenheit(number, scale=\"C\"):\n",
    "    if scale == \"C\":\n",
    "        return (number - 32) * 5/9\n",
    "    elif scale == \"K\":\n",
    "        return (number - 32) * 5/9 + 273.15 \n",
    "    else:\n",
    "        print(\"Invalid input. Defaulting to Celsius\")\n",
    "        return (number - 32) * 5/9\n",
    "\n",
    "\n",
    "result  = convert_fahrenheit(temperature_fahrenheit, target_scale)\n",
    "print(f\"{temperature_fahrenheit}°F is {result:.2f}°{target_scale if target_scale in ['C', 'K'] else 'C'}\")"
   ]
  },
  {
   "cell_type": "markdown",
   "id": "1bffddd9",
   "metadata": {},
   "source": [
    "### Exercise 3"
   ]
  },
  {
   "cell_type": "code",
   "execution_count": 15,
   "id": "deb13625",
   "metadata": {},
   "outputs": [
    {
     "name": "stdout",
     "output_type": "stream",
     "text": [
      "34.00°F is 274.26°K\n"
     ]
    }
   ],
   "source": [
    "\n",
    "while True:\n",
    "    try:\n",
    "        temperature = float(input(\"Enter your temperature\"))\n",
    "        break \n",
    "    except ValueError:\n",
    "        print(\"Please enter a valid number!\")\n",
    "\n",
    "source_scale = input(f\"Scale of input temperature. Enter F for Fahrenheit, C for Celsius and K for Kelvin\").upper()\n",
    "target_scale = input(f\"Scale of output temperature {temperature}°{source_scale}. Enter F for Fahrenheit, C for Celsius and K for Kelvin\").upper()\n",
    "\n",
    "\n",
    "def convert_kelvin(number, scale=\"C\"):\n",
    "    if scale == \"C\":\n",
    "        return (number - 273.15)\n",
    "    elif scale == \"F\":\n",
    "        return (number - 273.15) * 9/5 + 32\n",
    "    else:\n",
    "        print(\"Invalid input. Defaulting to Celsius\")\n",
    "        return (number - 273.15)\n",
    "\n",
    "def convert_temperature(temperature, source_scale, target_scale):\n",
    "    if source_scale == \"K\":\n",
    "        return convert_kelvin(temperature, target_scale)\n",
    "    elif source_scale == \"F\":\n",
    "        return convert_fahrenheit(temperature, target_scale)\n",
    "    elif source_scale == \"C\":\n",
    "        return convert_celsius(temperature, target_scale)\n",
    "    else:\n",
    "        print(f\"Invalid input. Enter either F, K or C\")\n",
    "        return temperature #return original temperature?\n",
    "\n",
    "result = convert_temperature(temperature, source_scale, target_scale)\n",
    "\n",
    "print(f\"{temperature:.2f}°{source_scale} is {result:.2f}°{target_scale}\")"
   ]
  },
  {
   "cell_type": "code",
   "execution_count": null,
   "id": "03a02fb2",
   "metadata": {},
   "outputs": [],
   "source": []
  }
 ],
 "metadata": {
  "kernelspec": {
   "display_name": "base",
   "language": "python",
   "name": "python3"
  },
  "language_info": {
   "codemirror_mode": {
    "name": "ipython",
    "version": 3
   },
   "file_extension": ".py",
   "mimetype": "text/x-python",
   "name": "python",
   "nbconvert_exporter": "python",
   "pygments_lexer": "ipython3",
   "version": "3.13.5"
  },
  "toc": {
   "base_numbering": 1,
   "nav_menu": {},
   "number_sections": true,
   "sideBar": true,
   "skip_h1_title": false,
   "title_cell": "Table of Contents",
   "title_sidebar": "Contents",
   "toc_cell": false,
   "toc_position": {},
   "toc_section_display": true,
   "toc_window_display": false
  }
 },
 "nbformat": 4,
 "nbformat_minor": 5
}
