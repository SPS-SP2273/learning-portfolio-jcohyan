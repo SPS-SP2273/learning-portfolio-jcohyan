{
 "cells": [
  {
   "attachments": {},
   "cell_type": "markdown",
   "id": "123456",
   "metadata": {},
   "source": [
    "<div style=\"text-align:left;font-size:2em\"><span style=\"font-weight:bolder;font-size:1.25em\">SP2273 | Learning Portfolio</span><br><br><span style=\"font-weight:bold;color:darkred\">Fundamentals (Good) Exercises</span></div>"
   ]
  },
  {
   "cell_type": "markdown",
   "id": "f50d8087",
   "metadata": {
    "vscode": {
     "languageId": "plaintext"
    }
   },
   "source": [
    "### Exercise 1 (f-strings to the rescue)"
   ]
  },
  {
   "cell_type": "code",
   "execution_count": null,
   "id": "207163e5",
   "metadata": {},
   "outputs": [
    {
     "name": "stdout",
     "output_type": "stream",
     "text": [
      "how you doin JOY\n"
     ]
    }
   ],
   "source": [
    "name = input('What is your name?')\n",
    "print('how you doin', name.upper())"
   ]
  },
  {
   "cell_type": "code",
   "execution_count": 14,
   "id": "548c9940",
   "metadata": {},
   "outputs": [
    {
     "name": "stdout",
     "output_type": "stream",
     "text": [
      "My name is BOBBY and I am 6235834 years old.\n"
     ]
    }
   ],
   "source": [
    "name = input('What is your name?')\n",
    "age = input('How old are you')\n",
    "print('My name is', name.upper(), 'and I am', age, 'years old.')"
   ]
  },
  {
   "cell_type": "code",
   "execution_count": 24,
   "id": "5b4a9ea1",
   "metadata": {},
   "outputs": [
    {
     "name": "stdout",
     "output_type": "stream",
     "text": [
      "The value of pi to 2 decimal places is: 3.14\n",
      "The value of pi to 3 decimal places is: 3.142\n",
      "The value of pi to 4 decimal places is: 3.1416\n"
     ]
    }
   ],
   "source": [
    "pi = 3.141592653589793\n",
    "n = 2\n",
    "print(f'The value of pi to {n} decimal places is: {pi:.{n}f}')\n",
    "n = 3\n",
    "print(f'The value of pi to {n} decimal places is: {pi:.{n}f}')\n",
    "n = 4\n",
    "print(f'The value of pi to {n} decimal places is: {pi:.{n}f}')"
   ]
  },
  {
   "cell_type": "code",
   "execution_count": 36,
   "id": "68ebe2f0",
   "metadata": {},
   "outputs": [
    {
     "name": "stdout",
     "output_type": "stream",
     "text": [
      "Apple      $ 0.99 \n",
      "Banana     $ 0.59 \n",
      "Orange     $ 1.29 \n"
     ]
    }
   ],
   "source": [
    "print(f'{'Apple':<10} $ {0.99:<5}') \n",
    "print(f\"{'Banana':<10} $ {0.59:<5}\")\n",
    "print(f\"{'Orange':<10} $ {1.29:<5}\")\n"
   ]
  },
  {
   "cell_type": "markdown",
   "id": "186854f0",
   "metadata": {},
   "source": [
    "### Exercise 2 (What is your grade?)"
   ]
  },
  {
   "cell_type": "code",
   "execution_count": 77,
   "id": "d9c3b695",
   "metadata": {},
   "outputs": [
    {
     "name": "stdout",
     "output_type": "stream",
     "text": [
      "The student's letter grade is: B\n"
     ]
    }
   ],
   "source": [
    "try:\n",
    "    score = float(input(\"Enter student's grade.\"))\n",
    "    if score > 100 or score < 0:\n",
    "        print(\"Invalid input! Student's score is should be between 0 to 100\")\n",
    "    elif score >= 70:\n",
    "        print(\"The student's letter grade is: A\")\n",
    "    elif score >= 50:\n",
    "        print(\"The student's letter grade is: B\")\n",
    "    elif score >= 35:\n",
    "        print (\"The student's letter grade is: C\")\n",
    "    else:\n",
    "        print(\"The student's letter grade is: Fail\")\n",
    "\n",
    "except ValueError:\n",
    "    print(\"Invalid input! Please enter a numeric grade.\")\n"
   ]
  },
  {
   "cell_type": "markdown",
   "id": "4d1a2fbc",
   "metadata": {},
   "source": [
    "\n",
    "### Exercise 3 (Debugging Code)"
   ]
  },
  {
   "cell_type": "code",
   "execution_count": null,
   "id": "a7043100",
   "metadata": {},
   "outputs": [
    {
     "name": "stdout",
     "output_type": "stream",
     "text": [
      "Invalid input\n",
      "1\n"
     ]
    }
   ],
   "source": [
    "def factorial(n):\n",
    "    if n > 0:           #testing for negative numbers \n",
    "        return \"Invalid input\"     \n",
    "    elif n != 0:        #testing for zero \n",
    "        return 1\n",
    "    else:\n",
    "        result = 1                  \n",
    "        for number in range(1, n+1):\n",
    "            result += number        #multiplying not adding \n",
    "        return result\n",
    "\n",
    "\n",
    "print(factorial(5))   # Testing, expected output: 120\n",
    "print(factorial(-1))  # Testing, expected output: Invalid input"
   ]
  },
  {
   "cell_type": "code",
   "execution_count": null,
   "id": "508190e0",
   "metadata": {},
   "outputs": [
    {
     "name": "stdout",
     "output_type": "stream",
     "text": [
      "120\n",
      "Invalid input\n"
     ]
    }
   ],
   "source": [
    "def factorial(n):\n",
    "    if n < 0:\n",
    "        return \"Invalid input\"\n",
    "    elif n == 0:\n",
    "        return 1\n",
    "    else:\n",
    "        result = 1\n",
    "        for number in range(1, n+1):        #range includes start but not stop \n",
    "            result *= number\n",
    "        return result\n",
    "\n",
    "\n",
    "print(factorial(5))   # Testing, expected output: 120\n",
    "print(factorial(-1))  # Testing, expected output: Invalid input"
   ]
  }
 ],
 "metadata": {
  "kernelspec": {
   "display_name": "base",
   "language": "python",
   "name": "python3"
  },
  "language_info": {
   "codemirror_mode": {
    "name": "ipython",
    "version": 3
   },
   "file_extension": ".py",
   "mimetype": "text/x-python",
   "name": "python",
   "nbconvert_exporter": "python",
   "pygments_lexer": "ipython3",
   "version": "3.13.5"
  },
  "toc": {
   "base_numbering": 1,
   "nav_menu": {},
   "number_sections": true,
   "sideBar": true,
   "skip_h1_title": false,
   "title_cell": "Table of Contents",
   "title_sidebar": "Contents",
   "toc_cell": false,
   "toc_position": {},
   "toc_section_display": true,
   "toc_window_display": false
  }
 },
 "nbformat": 4,
 "nbformat_minor": 5
}
