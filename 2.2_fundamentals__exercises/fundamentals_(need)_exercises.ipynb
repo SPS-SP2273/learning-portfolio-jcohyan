{
 "cells": [
  {
   "attachments": {},
   "cell_type": "markdown",
   "id": "123456",
   "metadata": {},
   "source": [
    "<div style=\"text-align:left;font-size:2em\"><span style=\"font-weight:bolder;font-size:1.25em\">SP2273 | Learning Portfolio</span><br><br><span style=\"font-weight:bold;color:darkred\">Fundamentals (Need) Exercises</span></div>"
   ]
  },
  {
   "cell_type": "markdown",
   "id": "30561d5e",
   "metadata": {},
   "source": [
    "### Exercise 1 ###"
   ]
  },
  {
   "cell_type": "markdown",
   "id": "9c88444b",
   "metadata": {},
   "source": [
    "1. basic syntax for markdown (formatting - headers, italics, bold, _subscipt&superscript_)\n",
    "2. timing functions (%time%)\n",
    "3. math equations and their symbols (eg. $sqrt{2}$)\n",
    "4. _Displaying code, images, links, list_\n",
    "5. _Formatting tables_\n",
    "6. _Shell commands_\n",
    "\n",
    "\n",
    "\n",
    "\n"
   ]
  },
  {
   "cell_type": "markdown",
   "id": "d6f43529",
   "metadata": {},
   "source": [
    "### Exercise 2 ###"
   ]
  },
  {
   "cell_type": "code",
   "execution_count": 18,
   "id": "0438b91e",
   "metadata": {},
   "outputs": [
    {
     "name": "stdout",
     "output_type": "stream",
     "text": [
      "3 4 5.0\n"
     ]
    }
   ],
   "source": [
    "x, y = 3, 4\n",
    "z = math.sqrt(x**2 + y**2)\n",
    "print(x, y, z)"
   ]
  },
  {
   "cell_type": "markdown",
   "id": "8623eea6",
   "metadata": {},
   "source": [
    "### Exercise 3 ###"
   ]
  },
  {
   "cell_type": "markdown",
   "id": "6c76b1d8",
   "metadata": {},
   "source": [
    "| **#** | **Term**     | **Description**                                                                    |\n",
    "|:-----:|--------------|------------------------------------------------------------------------------------|\n",
    "|   1   | Function     | A function calls to the software to execute a command                              |\n",
    "|   2   | Arguments    | Placed in brackets after a function, it is the data that is passed to the function |\n",
    "|   3   | Comments     | For our reading when we go back to review a code                                   |\n",
    "|   4   | Indentations | Used to show the result of a true/false statement                                  |\n",
    "|   5   | Packages     | Adds to the software to do more functions                                          |\n",
    "|   6   | .            | Used to show ownership                                                             |\n",
    "|   7   | :            | Used to show a new block                                                           |\n",
    "|   8   | []           | Square brackets are for lists                                                      |\n",
    "|   9   | [[],[]]      | Used to create a list or array                                                     |\n",
    "|   10  | {}           | Used to store data in a dictionary                                                 |"
   ]
  },
  {
   "cell_type": "markdown",
   "id": "539bfa6a",
   "metadata": {},
   "source": [
    "### Exercise 4"
   ]
  },
  {
   "cell_type": "code",
   "execution_count": null,
   "id": "8580c64d",
   "metadata": {},
   "outputs": [
    {
     "data": {
      "text/plain": [
       "2.5"
      ]
     },
     "execution_count": 20,
     "metadata": {},
     "output_type": "execute_result"
    }
   ],
   "source": [
    "5/2         # True division, returns the whole answer "
   ]
  },
  {
   "cell_type": "code",
   "execution_count": null,
   "id": "b0268e21",
   "metadata": {},
   "outputs": [
    {
     "data": {
      "text/plain": [
       "2"
      ]
     },
     "execution_count": 21,
     "metadata": {},
     "output_type": "execute_result"
    }
   ],
   "source": [
    "5//2        # Returns the integer part of the division"
   ]
  },
  {
   "cell_type": "code",
   "execution_count": null,
   "id": "17a0ab94",
   "metadata": {},
   "outputs": [
    {
     "data": {
      "text/plain": [
       "1"
      ]
     },
     "execution_count": 22,
     "metadata": {},
     "output_type": "execute_result"
    }
   ],
   "source": [
    "5%2         # Returns the remainder of the division "
   ]
  }
 ],
 "metadata": {
  "kernelspec": {
   "display_name": "base",
   "language": "python",
   "name": "python3"
  },
  "language_info": {
   "codemirror_mode": {
    "name": "ipython",
    "version": 3
   },
   "file_extension": ".py",
   "mimetype": "text/x-python",
   "name": "python",
   "nbconvert_exporter": "python",
   "pygments_lexer": "ipython3",
   "version": "3.13.5"
  },
  "toc": {
   "base_numbering": 1,
   "nav_menu": {},
   "number_sections": true,
   "sideBar": true,
   "skip_h1_title": false,
   "title_cell": "Table of Contents",
   "title_sidebar": "Contents",
   "toc_cell": false,
   "toc_position": {},
   "toc_section_display": true,
   "toc_window_display": false
  }
 },
 "nbformat": 4,
 "nbformat_minor": 5
}
