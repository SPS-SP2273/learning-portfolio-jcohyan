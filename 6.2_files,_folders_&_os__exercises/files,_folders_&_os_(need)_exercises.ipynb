{
 "cells": [
  {
   "attachments": {},
   "cell_type": "markdown",
   "id": "123456",
   "metadata": {},
   "source": [
    "<div style=\"text-align:left;font-size:2em\"><span style=\"font-weight:bolder;font-size:1.25em\">SP2273 | Learning Portfolio</span><br><br><span style=\"font-weight:bold;color:darkred\">Files, Folders & OS (Need) Exercises</span></div>"
   ]
  },
  {
   "cell_type": "code",
   "execution_count": null,
   "id": "94391a98",
   "metadata": {},
   "outputs": [],
   "source": [
    "import os\n",
    "import glob\n",
    "import shutil"
   ]
  },
  {
   "cell_type": "code",
   "execution_count": 12,
   "id": "1dbdcba2",
   "metadata": {},
   "outputs": [
    {
     "name": "stdout",
     "output_type": "stream",
     "text": [
      "10-08-singapore.txt\n"
     ]
    }
   ],
   "source": [
    "months_dict = {\n",
    "'jan': '01', 'feb': '02', 'mar': '03',\n",
    "'apr': '04', 'may': '05', 'jun': '06',\n",
    "'jul': '07', 'aug': '08', 'sep': '09',\n",
    "'oct': '10', 'nov': '11', 'dec': '12'\n",
    "}\n",
    "\n",
    "filename = \"oct-08_singapore.txt\"\n",
    "filename = filename.replace(\".txt\", \"\")\n",
    "parts = filename.replace(\"_\",\"-\").split(\"-\")\n",
    "\n",
    "month_name, date , city = parts[0], parts[1], parts [2]\n",
    "\n",
    "month_num = months_dict[month_name]\n",
    "\n",
    "print(f\"{month_num}-{date}-{city}.txt\")\n",
    "\n",
    "    "
   ]
  },
  {
   "cell_type": "code",
   "execution_count": null,
   "id": "cda7abd7",
   "metadata": {},
   "outputs": [
    {
     "name": "stdout",
     "output_type": "stream",
     "text": [
      "10-08-singapore.txt\n"
     ]
    }
   ],
   "source": [
    "def rename_my_file(old_file_name):\n",
    "    old_file_name = old_file_name.replace(\".txt\", \"\")\n",
    "    parts = old_file_name.replace(\"_\",\"-\").split(\"-\")\n",
    "    \n",
    "    month_name = parts[0]\n",
    "    date = parts[1]\n",
    "    city = parts [2]\n",
    "    \n",
    "    month_num = months_dict[month_name]\n",
    "\n",
    "    return f\"{month_num}-{date}-{city}.txt\"\n",
    "\n",
    "new_file_name = rename_my_file(\"oct-08_singapore.txt\")\n",
    "print(new_file_name)"
   ]
  },
  {
   "cell_type": "code",
   "execution_count": 17,
   "id": "b7d37566",
   "metadata": {},
   "outputs": [
    {
     "name": "stdout",
     "output_type": "stream",
     "text": [
      "oct-08_singapore.txt has been converted to 10-08-singapore.txt\n",
      "jul-10_cairo.txt has been converted to 07-10-cairo.txt\n",
      "may-15_dhaka.txt has been converted to 05-15-dhaka.txt\n",
      "may-13_cairo.txt has been converted to 05-13-cairo.txt\n",
      "oct-21_cairo.txt has been converted to 10-21-cairo.txt\n",
      "jan-10_singapore.txt has been converted to 01-10-singapore.txt\n",
      "jun-20_tokyo.txt has been converted to 06-20-tokyo.txt\n",
      "aug-06_jakarta.txt has been converted to 08-06-jakarta.txt\n",
      "dec-21_karachi.txt has been converted to 12-21-karachi.txt\n",
      "jan-01_tokyo.txt has been converted to 01-01-tokyo.txt\n"
     ]
    }
   ],
   "source": [
    "old_file_list = ['oct-08_singapore.txt', 'jul-10_cairo.txt', 'may-15_dhaka.txt',\n",
    "'may-13_cairo.txt', 'oct-21_cairo.txt', 'jan-10_singapore.txt',\n",
    "'jun-20_tokyo.txt', 'aug-06_jakarta.txt', 'dec-21_karachi.txt',\n",
    "'jan-01_tokyo.txt']\n",
    "\n",
    "new_file_list = []\n",
    "\n",
    "for old_file_name in old_file_list: \n",
    "    new_file_name = rename_my_file(old_file_name)\n",
    "    print(f\"{old_file_name} has been converted to {new_file_name}\")\n",
    "    new_file_list.append(new_file_name)\n",
    "\n"
   ]
  },
  {
   "cell_type": "code",
   "execution_count": null,
   "id": "69d8af05",
   "metadata": {},
   "outputs": [
    {
     "data": {
      "text/plain": [
       "['10-08-singapore.txt',\n",
       " '07-10-cairo.txt',\n",
       " '05-15-dhaka.txt',\n",
       " '05-13-cairo.txt',\n",
       " '10-21-cairo.txt',\n",
       " '01-10-singapore.txt',\n",
       " '06-20-tokyo.txt',\n",
       " '08-06-jakarta.txt',\n",
       " '12-21-karachi.txt',\n",
       " '01-01-tokyo.txt']"
      ]
     },
     "execution_count": 18,
     "metadata": {},
     "output_type": "execute_result"
    }
   ],
   "source": []
  },
  {
   "cell_type": "code",
   "execution_count": null,
   "id": "fd60a31f",
   "metadata": {},
   "outputs": [],
   "source": []
  }
 ],
 "metadata": {
  "kernelspec": {
   "display_name": "base",
   "language": "python",
   "name": "python3"
  },
  "language_info": {
   "codemirror_mode": {
    "name": "ipython",
    "version": 3
   },
   "file_extension": ".py",
   "mimetype": "text/x-python",
   "name": "python",
   "nbconvert_exporter": "python",
   "pygments_lexer": "ipython3",
   "version": "3.13.5"
  },
  "toc": {
   "base_numbering": 1,
   "nav_menu": {},
   "number_sections": true,
   "sideBar": true,
   "skip_h1_title": false,
   "title_cell": "Table of Contents",
   "title_sidebar": "Contents",
   "toc_cell": false,
   "toc_position": {},
   "toc_section_display": true,
   "toc_window_display": false
  }
 },
 "nbformat": 4,
 "nbformat_minor": 5
}
