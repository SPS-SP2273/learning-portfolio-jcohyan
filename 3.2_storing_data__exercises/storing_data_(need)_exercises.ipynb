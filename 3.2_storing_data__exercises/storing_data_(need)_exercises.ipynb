{
 "cells": [
  {
   "attachments": {},
   "cell_type": "markdown",
   "id": "123456",
   "metadata": {},
   "source": [
    "<div style=\"text-align:left;font-size:2em\"><span style=\"font-weight:bolder;font-size:1.25em\">SP2273 | Learning Portfolio</span><br><br><span style=\"font-weight:bold;color:darkred\">Storing Data (Need) Exercises</span></div>"
   ]
  },
  {
   "cell_type": "markdown",
   "id": "a41374be",
   "metadata": {
    "vscode": {
     "languageId": "plaintext"
    }
   },
   "source": [
    "### Exercise 1 (Total recall)"
   ]
  },
  {
   "cell_type": "markdown",
   "id": "1a6e00b7",
   "metadata": {},
   "source": [
    "Similarities \n",
    "\n",
    "1. Both are ways to store data. \n",
    "2. Both have values separated by commas\n",
    "3. Both allow for indexing and subsetting_\n",
    "\n",
    "Differences\n",
    "\n",
    "1. Cannot multiply numbers within lists but can using arrays. _(Allows for mathematical computations using numpy)_. \n",
    "2. Lists can hold different data types while arrays will convert numbers to strings if there are strings within the dataset\n",
    "3. Dictionary is another way to store data that has a 'key' that is related to a 'value'"
   ]
  },
  {
   "cell_type": "markdown",
   "id": "3d7177d3",
   "metadata": {},
   "source": [
    "### Exercise 2"
   ]
  },
  {
   "cell_type": "code",
   "execution_count": 2,
   "id": "bac5ed1e",
   "metadata": {},
   "outputs": [
    {
     "name": "stdout",
     "output_type": "stream",
     "text": [
      "a1\n",
      "c3\n",
      "e5\n",
      "g7\n",
      "i9\n"
     ]
    }
   ],
   "source": [
    "py_list = [\"a1\", \"b2\", \"c3\", \"d4\", \"e5\", \"f6\", \"g7\", \"h8\", \"i9\", \"j10\"]\n",
    "print(py_list[0])   # Prints 'a1'\n",
    "print(py_list[2])   # Prints 'c3'\n",
    "print(py_list[4])   # Prints 'e5'\n",
    "print(py_list[6])   # Prints 'g7'\n",
    "print(py_list[8])   # Prints 'i9'"
   ]
  },
  {
   "cell_type": "markdown",
   "id": "99381eeb",
   "metadata": {},
   "source": [
    "### Exercise 3"
   ]
  },
  {
   "cell_type": "code",
   "execution_count": 3,
   "id": "0b619ac4",
   "metadata": {},
   "outputs": [],
   "source": [
    "elements = ['Hydrogen',\n",
    "            'Helium', 'Lithium',\n",
    "            'Beryllium', 'Boron', 'Carbon',\n",
    "            'Nitrogen', 'Oxygen',\n",
    "            'Fluorine',\n",
    "            'Neon']"
   ]
  },
  {
   "cell_type": "code",
   "execution_count": 6,
   "id": "2457be11",
   "metadata": {},
   "outputs": [
    {
     "name": "stdout",
     "output_type": "stream",
     "text": [
      "Boron\n",
      "Boron\n"
     ]
    }
   ],
   "source": [
    "print(elements[4])\n",
    "print(elements[-6])"
   ]
  },
  {
   "cell_type": "markdown",
   "id": "05c9248a",
   "metadata": {},
   "source": [
    "### Exercise 4"
   ]
  },
  {
   "cell_type": "code",
   "execution_count": null,
   "id": "86c34910",
   "metadata": {},
   "outputs": [],
   "source": [
    "numbers = [45, 60, 1, 30, 96, 1, 96, 57, 16, 1,\n",
    "        99, 62, 86, 43, 42, 60, 59, 1, 1, 35,\n",
    "        83, 47, 34, 28, 68, 23, 22, 92, 1, 79,\n",
    "        1, 29, 94, 72, 46, 47, 1, 74, 32, 20,\n",
    "        8, 37, 35, 1, 89, 29, 86, 19, 43, 61]                 "
   ]
  },
  {
   "cell_type": "code",
   "execution_count": 20,
   "id": "98a27170",
   "metadata": {},
   "outputs": [
    {
     "name": "stdout",
     "output_type": "stream",
     "text": [
      "There are 9 1's in the list of numbers\n"
     ]
    }
   ],
   "source": [
    "np_array = np.array(numbers)\n",
    "mask = np_array == 1 \n",
    "print(f\"There are {sum(mask)} 1's in the list of numbers\")\n"
   ]
  },
  {
   "cell_type": "markdown",
   "id": "41f849a0",
   "metadata": {},
   "source": [
    "### Exercise 5 (A matter of statstics)"
   ]
  },
  {
   "cell_type": "code",
   "execution_count": 2,
   "id": "86ec79c9",
   "metadata": {},
   "outputs": [],
   "source": [
    "x_1 = [1, 4, 9, 16, 25, 36, 49, 64, 81, 100]\n",
    "x_2 = [1, 8, 27, 64, 125, 216, 343, 512, 729, 1000]"
   ]
  },
  {
   "cell_type": "code",
   "execution_count": 9,
   "id": "6534564e",
   "metadata": {},
   "outputs": [],
   "source": [
    "np_x_1 = np.array(x_1)\n",
    "np_x_2 = np.array(x_2)"
   ]
  },
  {
   "cell_type": "code",
   "execution_count": 12,
   "id": "5c7084f0",
   "metadata": {},
   "outputs": [
    {
     "name": "stdout",
     "output_type": "stream",
     "text": [
      "mean of x1 is 38.5\n",
      "mean of x2 is 302.5\n"
     ]
    }
   ],
   "source": [
    "mean_x_1 = np.mean(np_x_1)\n",
    "mean_x_2 = np.mean(np_x_2)\n",
    "print(f'mean of x1 is {mean_x_1}')\n",
    "print(f'mean of x2 is {mean_x_2}')"
   ]
  },
  {
   "cell_type": "code",
   "execution_count": 13,
   "id": "0629b41b",
   "metadata": {},
   "outputs": [
    {
     "name": "stdout",
     "output_type": "stream",
     "text": [
      "standard deviation of x1 is 32.41990129534635\n",
      "standard deviation of x2 is 326.0893282522444\n"
     ]
    }
   ],
   "source": [
    "sd_x_1 = np.std(np_x_1)\n",
    "sd_x_2 = np.std(np_x_2)\n",
    "print(f'standard deviation of x1 is {sd_x_1}')\n",
    "print(f'standard deviation of x2 is {sd_x_2}')"
   ]
  },
  {
   "cell_type": "code",
   "execution_count": 14,
   "id": "7470125f",
   "metadata": {},
   "outputs": [],
   "source": [
    "numerator = np.sum((np_x_1 - mean_x_1) * (np_x_2 - mean_x_2))"
   ]
  },
  {
   "cell_type": "code",
   "execution_count": 49,
   "id": "1e087f3b",
   "metadata": {},
   "outputs": [],
   "source": [
    "denominator = np.sqrt(np.sum((np_x_1 - mean_x_1)**2) * (np.sum((np_x_2 - mean_x_2)**2)))\n"
   ]
  },
  {
   "cell_type": "code",
   "execution_count": 50,
   "id": "c3883e69",
   "metadata": {},
   "outputs": [
    {
     "name": "stdout",
     "output_type": "stream",
     "text": [
      "Pearson's Correlation 0.987179662627070\n"
     ]
    }
   ],
   "source": [
    "r = numerator/denominator\n",
    "print(f\"Pearson's Correlation {r:.15f}\")"
   ]
  },
  {
   "cell_type": "code",
   "execution_count": 40,
   "id": "37c71207",
   "metadata": {},
   "outputs": [
    {
     "name": "stdout",
     "output_type": "stream",
     "text": [
      "Pearson's Correlation is 0.9871796626270702\n"
     ]
    }
   ],
   "source": [
    "print(f\"Pearson's Correlation is {np.corrcoef(np_x_1,np_x_2)[1,0]}\")\n"
   ]
  }
 ],
 "metadata": {
  "kernelspec": {
   "display_name": "base",
   "language": "python",
   "name": "python3"
  },
  "language_info": {
   "codemirror_mode": {
    "name": "ipython",
    "version": 3
   },
   "file_extension": ".py",
   "mimetype": "text/x-python",
   "name": "python",
   "nbconvert_exporter": "python",
   "pygments_lexer": "ipython3",
   "version": "3.13.5"
  },
  "toc": {
   "base_numbering": 1,
   "nav_menu": {},
   "number_sections": true,
   "sideBar": true,
   "skip_h1_title": false,
   "title_cell": "Table of Contents",
   "title_sidebar": "Contents",
   "toc_cell": false,
   "toc_position": {},
   "toc_section_display": true,
   "toc_window_display": false
  }
 },
 "nbformat": 4,
 "nbformat_minor": 5
}
