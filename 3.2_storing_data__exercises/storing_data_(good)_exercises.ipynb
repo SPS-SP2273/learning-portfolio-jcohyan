{
 "cells": [
  {
   "attachments": {},
   "cell_type": "markdown",
   "id": "123456",
   "metadata": {},
   "source": [
    "<div style=\"text-align:left;font-size:2em\"><span style=\"font-weight:bolder;font-size:1.25em\">SP2273 | Learning Portfolio</span><br><br><span style=\"font-weight:bold;color:darkred\">Storing Data (Good) Exercises</span></div>"
   ]
  },
  {
   "cell_type": "markdown",
   "id": "f2df05ca",
   "metadata": {
    "vscode": {
     "languageId": "plaintext"
    }
   },
   "source": [
    "### Exercise 1 (Total recall)"
   ]
  },
  {
   "cell_type": "markdown",
   "id": "51422fa8",
   "metadata": {},
   "source": [
    "|  **Term**  | **Brief Description**                                       |\n",
    "|:----------:|-------------------------------------------------------------|\n",
    "| Subsetting | General term for selecting elements                         |\n",
    "|  Indexing  | Selecting one element                                       |\n",
    "|  Slicing   | Selecting a range of elements                               |\n",
    "|   Masking  | To create a filter to show all true elements in the filter  |"
   ]
  },
  {
   "cell_type": "markdown",
   "id": "540e6756",
   "metadata": {},
   "source": [
    "### Exercise 2 (Show me the 'odd' letters)"
   ]
  },
  {
   "cell_type": "code",
   "execution_count": 7,
   "id": "06b84021",
   "metadata": {},
   "outputs": [],
   "source": [
    "import numpy as np"
   ]
  },
  {
   "cell_type": "code",
   "execution_count": 8,
   "id": "4360c525",
   "metadata": {},
   "outputs": [],
   "source": [
    "np_array_2d = np.array([[1, \"A\"], [3, \"C\"], [2, \"B\"], [4, \"D\"],\n",
    "                        [5, \"E\"], [7, \"G\"], [6, \"F\"], [8, \"H\"],\n",
    "                        [10, \"J\"], [9, \"I\"]])"
   ]
  },
  {
   "cell_type": "code",
   "execution_count": 11,
   "id": "8dee85d4",
   "metadata": {},
   "outputs": [
    {
     "data": {
      "text/plain": [
       "array(['A', 'C', 'E', 'G', 'I'], dtype='<U21')"
      ]
     },
     "execution_count": 11,
     "metadata": {},
     "output_type": "execute_result"
    }
   ],
   "source": [
    "mask = (np_array_2d[:,0].astype(int))%2 != 0        #convert slice to integers before checking for remainder\n",
    "np_array_2d[mask,1]"
   ]
  },
  {
   "cell_type": "markdown",
   "id": "3320ceb6",
   "metadata": {},
   "source": [
    "### Exercise 3"
   ]
  },
  {
   "cell_type": "code",
   "execution_count": 12,
   "id": "23151896",
   "metadata": {},
   "outputs": [
    {
     "name": "stdout",
     "output_type": "stream",
     "text": [
      "[[ 1  0  1 -1 -1]\n",
      " [ 1 -1  1 -1 -1]\n",
      " [ 1 -1 -1  1 -1]\n",
      " [-1  1  1 -1 -1]\n",
      " [ 1 -1  1 -1  1]]\n"
     ]
    }
   ],
   "source": [
    "import numpy as np\n",
    "\n",
    "np_array = np.array([[66, 50, 57, -1, -1],\n",
    "                    [92, -1, 88, -1, -1],\n",
    "                    [75, -1, -1, 76, -1],\n",
    "                    [-1, 51, 87, -1, -1],\n",
    "                    [71, -1, 67, -1, 69]])\n",
    "\n",
    "np_array[np_array < 50] = -1        #masking without creating another variable  \n",
    "np_array[np_array > 50] = 1    \n",
    "np_array[np_array == 50] = 0  \n",
    "\n",
    "print(np_array)\n"
   ]
  }
 ],
 "metadata": {
  "kernelspec": {
   "display_name": "base",
   "language": "python",
   "name": "python3"
  },
  "language_info": {
   "codemirror_mode": {
    "name": "ipython",
    "version": 3
   },
   "file_extension": ".py",
   "mimetype": "text/x-python",
   "name": "python",
   "nbconvert_exporter": "python",
   "pygments_lexer": "ipython3",
   "version": "3.13.5"
  },
  "toc": {
   "base_numbering": 1,
   "nav_menu": {},
   "number_sections": true,
   "sideBar": true,
   "skip_h1_title": false,
   "title_cell": "Table of Contents",
   "title_sidebar": "Contents",
   "toc_cell": false,
   "toc_position": {},
   "toc_section_display": true,
   "toc_window_display": false
  }
 },
 "nbformat": 4,
 "nbformat_minor": 5
}
