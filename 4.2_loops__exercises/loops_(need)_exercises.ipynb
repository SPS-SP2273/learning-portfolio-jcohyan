{
 "cells": [
  {
   "attachments": {},
   "cell_type": "markdown",
   "id": "123456",
   "metadata": {},
   "source": [
    "<div style=\"text-align:left;font-size:2em\"><span style=\"font-weight:bolder;font-size:1.25em\">SP2273 | Learning Portfolio</span><br><br><span style=\"font-weight:bold;color:darkred\">Loops (Need) Exercises</span></div>"
   ]
  },
  {
   "cell_type": "markdown",
   "id": "15bc64c7",
   "metadata": {},
   "source": [
    "### Exercise 1 (Celsius to Fahrenheit)"
   ]
  },
  {
   "cell_type": "code",
   "execution_count": 5,
   "id": "3a6c50ca",
   "metadata": {},
   "outputs": [],
   "source": [
    "temperatures_celsius = [\n",
    "    0, 5, 10, 15, 20, 25,\n",
    "    30, 35, 40, 45, 50\n",
    "]"
   ]
  },
  {
   "cell_type": "code",
   "execution_count": 7,
   "id": "29c46630",
   "metadata": {},
   "outputs": [],
   "source": [
    "import numpy as np\n",
    "np_temperatures_c = np.array(temperatures_celsius)\n",
    "\n",
    "np_temperatures_f = np_temperatures_c * 9/5 + 32"
   ]
  },
  {
   "cell_type": "code",
   "execution_count": 13,
   "id": "86e8bc6c",
   "metadata": {},
   "outputs": [
    {
     "name": "stdout",
     "output_type": "stream",
     "text": [
      "0 in degrees Celsius is 32.0 degrees Fahrenheit is\n",
      "5 in degrees Celsius is 41.0 degrees Fahrenheit is\n",
      "10 in degrees Celsius is 50.0 degrees Fahrenheit is\n",
      "15 in degrees Celsius is 59.0 degrees Fahrenheit is\n",
      "20 in degrees Celsius is 68.0 degrees Fahrenheit is\n",
      "25 in degrees Celsius is 77.0 degrees Fahrenheit is\n",
      "30 in degrees Celsius is 86.0 degrees Fahrenheit is\n",
      "35 in degrees Celsius is 95.0 degrees Fahrenheit is\n",
      "40 in degrees Celsius is 104.0 degrees Fahrenheit is\n",
      "45 in degrees Celsius is 113.0 degrees Fahrenheit is\n",
      "50 in degrees Celsius is 122.0 degrees Fahrenheit is\n"
     ]
    }
   ],
   "source": [
    "for degrees_c, degrees_f in zip(np_temperatures_c, np_temperatures_f):\n",
    "    print(f\"{degrees_c} in degrees Celsius is {degrees_f} degrees Fahrenheit is\")"
   ]
  },
  {
   "cell_type": "markdown",
   "id": "87e0eb9c",
   "metadata": {},
   "source": [
    "### Excercise 2 (Multiplication table)"
   ]
  },
  {
   "cell_type": "code",
   "execution_count": 14,
   "id": "c0e8d58e",
   "metadata": {},
   "outputs": [
    {
     "name": "stdout",
     "output_type": "stream",
     "text": [
      "A1\tA2\tA3\t\n",
      "\n",
      "B1\tB2\tB3\t\n",
      "\n",
      "C1\tC2\tC3\t\n",
      "\n"
     ]
    }
   ],
   "source": [
    "for letter in ['A', 'B', 'C']:\n",
    "    for number in [1, 2, 3]:\n",
    "        print(f'{letter}{number}', end='\\t')\n",
    "    print('\\n')"
   ]
  },
  {
   "cell_type": "code",
   "execution_count": 35,
   "id": "f6e3d9c3",
   "metadata": {},
   "outputs": [
    {
     "name": "stdout",
     "output_type": "stream",
     "text": [
      "1 :1\t2\t3\t4\t5\t\n",
      "\n",
      "2 :2\t4\t6\t8\t10\t\n",
      "\n",
      "3 :3\t6\t9\t12\t15\t\n",
      "\n",
      "4 :4\t8\t12\t16\t20\t\n",
      "\n",
      "5 :5\t10\t15\t20\t25\t\n",
      "\n"
     ]
    }
   ],
   "source": [
    "for number in [1, 2, 3, 4, 5]:\n",
    "    print(f\"{number} :\", end = \"\")       #end = \"\" keeps output on the same line \n",
    "    for divisor in [1, 2, 3, 4, 5]:\n",
    "        print(f\"{number*divisor}\", end='\\t')\n",
    "    print('\\n')"
   ]
  },
  {
   "cell_type": "code",
   "execution_count": 43,
   "id": "8ee6cd90",
   "metadata": {},
   "outputs": [
    {
     "name": "stdout",
     "output_type": "stream",
     "text": [
      "1 :    1    2    3    4    5\n",
      "2 :    2    4    6    8   10\n",
      "3 :    3    6    9   12   15\n",
      "4 :    4    8   12   16   20\n",
      "5 :    5   10   15   20   25\n"
     ]
    }
   ],
   "source": [
    "for i in range(1,6):\n",
    "    print(f\"{i} :\", end = \"\")\n",
    "    for j in range(1,6):\n",
    "        print(f\"{i*j:5}\" , end = \"\" )\n",
    "    print()"
   ]
  },
  {
   "cell_type": "markdown",
   "id": "51c12338",
   "metadata": {},
   "source": [
    "### Exercise 3 (Simulating a Coin Flip Experiment)"
   ]
  },
  {
   "cell_type": "code",
   "execution_count": 68,
   "id": "e95f2d67",
   "metadata": {},
   "outputs": [
    {
     "name": "stdout",
     "output_type": "stream",
     "text": [
      "Experiement 1: No of Heads = 6\n",
      "Experiement 2: No of Heads = 1\n",
      "Experiement 3: No of Heads = 4\n",
      "Experiement 4: No of Heads = 4\n",
      "Experiement 5: No of Heads = 4\n",
      "Experiement 6: No of Heads = 5\n",
      "Experiement 7: No of Heads = 5\n",
      "Experiement 8: No of Heads = 5\n",
      "Experiement 9: No of Heads = 5\n",
      "Experiement 10: No of Heads = 5\n"
     ]
    }
   ],
   "source": [
    "import numpy as np \n",
    "\n",
    "\n",
    "for experiment_no in range(1,11):\n",
    "        values = np.random.rand(10)\n",
    "        heads_counts = np.sum(values>0.5)\n",
    "        print(f\"Experiement {experiment_no}: No of Heads = {heads_counts}\")\n"
   ]
  },
  {
   "cell_type": "code",
   "execution_count": null,
   "id": "f93c56ef",
   "metadata": {},
   "outputs": [],
   "source": []
  }
 ],
 "metadata": {
  "kernelspec": {
   "display_name": "base",
   "language": "python",
   "name": "python3"
  },
  "language_info": {
   "codemirror_mode": {
    "name": "ipython",
    "version": 3
   },
   "file_extension": ".py",
   "mimetype": "text/x-python",
   "name": "python",
   "nbconvert_exporter": "python",
   "pygments_lexer": "ipython3",
   "version": "3.13.5"
  },
  "toc": {
   "base_numbering": 1,
   "nav_menu": {},
   "number_sections": true,
   "sideBar": true,
   "skip_h1_title": false,
   "title_cell": "Table of Contents",
   "title_sidebar": "Contents",
   "toc_cell": false,
   "toc_position": {},
   "toc_section_display": true,
   "toc_window_display": false
  }
 },
 "nbformat": 4,
 "nbformat_minor": 5
}
