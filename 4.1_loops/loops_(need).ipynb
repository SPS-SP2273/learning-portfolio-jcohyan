{
 "cells": [
  {
   "attachments": {},
   "cell_type": "markdown",
   "id": "123456",
   "metadata": {},
   "source": [
    "<div style=\"text-align:left;font-size:2em\"><span style=\"font-weight:bolder;font-size:1.25em\">SP2273 | Learning Portfolio</span><br><br><span style=\"font-weight:bold;color:darkred\">Loops (Need)</span></div>"
   ]
  },
  {
   "attachments": {},
   "cell_type": "markdown",
   "id": "123456",
   "metadata": {},
   "source": [
    "# What to expect in this chapter"
   ]
  },
  {
   "attachments": {},
   "cell_type": "markdown",
   "id": "123456",
   "metadata": {},
   "source": [
    "# 1 The for iterator"
   ]
  },
  {
   "cell_type": "code",
   "execution_count": 3,
   "id": "11018253",
   "metadata": {},
   "outputs": [],
   "source": [
    "real_names = [\"Natasha Romanoff\", \"Tony Stark\", \"Stephen Strange\"]"
   ]
  },
  {
   "cell_type": "markdown",
   "id": "8214c126",
   "metadata": {},
   "source": [
    "what NOT to do "
   ]
  },
  {
   "cell_type": "code",
   "execution_count": 3,
   "id": "bd2f9ab8",
   "metadata": {},
   "outputs": [
    {
     "name": "stdout",
     "output_type": "stream",
     "text": [
      "Natasha Romanoff is a Marvel superhero!\n",
      "Tony Stark is a Marvel superhero!\n",
      "Stephen Strange is a Marvel superhero!\n"
     ]
    }
   ],
   "source": [
    "name=real_names[0]\n",
    "print(f\"{name} is a Marvel superhero!\")\n",
    "\n",
    "name=real_names[1]\n",
    "print(f\"{name} is a Marvel superhero!\")\n",
    "\n",
    "name=real_names[2]\n",
    "print(f\"{name} is a Marvel superhero!\")"
   ]
  },
  {
   "cell_type": "code",
   "execution_count": 5,
   "id": "1eff88de",
   "metadata": {},
   "outputs": [
    {
     "name": "stdout",
     "output_type": "stream",
     "text": [
      "1 Natasha Romanoff\n",
      "2 Tony Stark\n",
      "3 Stephen Strange\n"
     ]
    }
   ],
   "source": [
    "count = 0\n",
    "for name in real_names:\n",
    "    count +=1 \n",
    "    print(count,name)"
   ]
  },
  {
   "cell_type": "code",
   "execution_count": 10,
   "id": "8de1a6ab",
   "metadata": {},
   "outputs": [
    {
     "name": "stdout",
     "output_type": "stream",
     "text": [
      "100000 Natasha Romanoff\n",
      "100001 Tony Stark\n",
      "100002 Stephen Strange\n"
     ]
    }
   ],
   "source": [
    "for count, name in enumerate(real_names, start=100000):\n",
    "    print(count, name)"
   ]
  },
  {
   "cell_type": "code",
   "execution_count": 17,
   "id": "61a851b9",
   "metadata": {},
   "outputs": [
    {
     "name": "stdout",
     "output_type": "stream",
     "text": [
      "1.Romanoff **ROMANOFF**\n",
      "2.Stark **STARK**\n",
      "3.Strange **STRANGE**\n",
      "\n"
     ]
    }
   ],
   "source": [
    "all_names = \"\"\n",
    "for count, name in enumerate(real_names, start = 1):\n",
    "    first_name, last_name = name.split()\n",
    "    all_names += f'{count}.{last_name} **{last_name.upper()}**\\n'\n",
    "\n",
    "print(all_names)"
   ]
  },
  {
   "cell_type": "code",
   "execution_count": null,
   "id": "f7e0b859",
   "metadata": {},
   "outputs": [
    {
     "name": "stdout",
     "output_type": "stream",
     "text": [
      "1 Natasha Romanoff\n",
      "2 Tony Stark\n",
      "3 Stephen Strange\n"
     ]
    }
   ],
   "source": [
    "for i in range(len(real_names)):            #counts the number of items in the list and prints it \n",
    "    print(i+1, real_names[i])"
   ]
  },
  {
   "attachments": {},
   "cell_type": "markdown",
   "id": "123456",
   "metadata": {},
   "source": [
    "## 1.1 for with a list"
   ]
  },
  {
   "cell_type": "code",
   "execution_count": 4,
   "id": "6fb44055",
   "metadata": {},
   "outputs": [
    {
     "name": "stdout",
     "output_type": "stream",
     "text": [
      "Natasha Romanoff is a Marvel superhero!\n",
      "Tony Stark is a Marvel superhero!\n",
      "Stephen Strange is a Marvel superhero!\n"
     ]
    }
   ],
   "source": [
    "for name in real_names:\n",
    "    print(f\"{name} is a Marvel superhero!\")"
   ]
  },
  {
   "cell_type": "code",
   "execution_count": 5,
   "id": "943361d8",
   "metadata": {},
   "outputs": [
    {
     "name": "stdout",
     "output_type": "stream",
     "text": [
      "Natasha Romanoff is a Marvel superhero!\n",
      "Tony Stark is a Marvel superhero!\n",
      "Stephen Strange is a Marvel superhero!\n"
     ]
    }
   ],
   "source": [
    "for x in real_names:\n",
    "    print(f\"{x} is a Marvel superhero!\")"
   ]
  },
  {
   "attachments": {},
   "cell_type": "markdown",
   "id": "123456",
   "metadata": {},
   "source": [
    "## 1.2 for with enumerate"
   ]
  },
  {
   "cell_type": "code",
   "execution_count": 23,
   "id": "24e092c8",
   "metadata": {},
   "outputs": [],
   "source": [
    "super_names = [\"Black Widow\", \"Iron Man\", \"Doctor Strange\"]\n",
    "real_names = [\"Natasha Romanoff\", \"Tony Stark\", \"Stephen Strange\"]"
   ]
  },
  {
   "cell_type": "code",
   "execution_count": 8,
   "id": "abeeff3b",
   "metadata": {},
   "outputs": [
    {
     "name": "stdout",
     "output_type": "stream",
     "text": [
      "0: Natasha Romanoff is a Marvel superhero!\n",
      "1: Tony Stark is a Marvel superhero!\n",
      "2: Stephen Strange is a Marvel superhero!\n"
     ]
    }
   ],
   "source": [
    "for count, name in enumerate(real_names):\n",
    "    print(f'{count}: {name} is a Marvel superhero!')\n",
    "# enumerate()keeps count (number stored in count())"
   ]
  },
  {
   "cell_type": "code",
   "execution_count": null,
   "id": "d382b16e",
   "metadata": {},
   "outputs": [
    {
     "name": "stdout",
     "output_type": "stream",
     "text": [
      "1 Black Widow if Natasha Romanoff\n",
      "2 Iron Man if Tony Stark\n",
      "3 Doctor Strange if Stephen Strange\n"
     ]
    }
   ],
   "source": [
    "for i in range (len(real_names)):               #same way to do the one on top \n",
    "    print(i+1, f'{super_names[i]} if {real_names[i]}')"
   ]
  },
  {
   "cell_type": "code",
   "execution_count": 25,
   "id": "fc21a8b5",
   "metadata": {},
   "outputs": [
    {
     "name": "stdout",
     "output_type": "stream",
     "text": [
      "Black Widow is Natasha Romanoff\n",
      "Iron Man is Tony Stark\n",
      "Doctor Strange is Stephen Strange\n"
     ]
    }
   ],
   "source": [
    "for super_name, real_name in zip(super_names, real_names):\n",
    "    print(f'{super_name} is {real_name}')\n"
   ]
  },
  {
   "cell_type": "code",
   "execution_count": 10,
   "id": "15edb2a4",
   "metadata": {},
   "outputs": [
    {
     "name": "stdout",
     "output_type": "stream",
     "text": [
      "Natasha Romanoff is Black Widow!\n",
      "Tony Stark is Iron Man!\n",
      "Stephen Strange is Doctor Strange!\n"
     ]
    }
   ],
   "source": [
    "for index, name in enumerate(real_names):\n",
    "    superhero_name = super_names[index]\n",
    "    print(f'{name} is {superhero_name}!')"
   ]
  },
  {
   "cell_type": "code",
   "execution_count": 9,
   "id": "0f282a6e",
   "metadata": {},
   "outputs": [
    {
     "name": "stdout",
     "output_type": "stream",
     "text": [
      "100: Natasha Romanoff is a Marvel superhero!\n",
      "101: Tony Stark is a Marvel superhero!\n",
      "102: Stephen Strange is a Marvel superhero!\n"
     ]
    }
   ],
   "source": [
    "for count, name in enumerate(real_names, 100):\n",
    "    print(f'{count}: {name} is a Marvel superhero!')"
   ]
  },
  {
   "cell_type": "code",
   "execution_count": 11,
   "id": "557eee40",
   "metadata": {},
   "outputs": [],
   "source": [
    "## for can be combined with enumerate() to count while looping thorugh a list "
   ]
  },
  {
   "attachments": {},
   "cell_type": "markdown",
   "id": "123456",
   "metadata": {},
   "source": [
    "## 1.3 for with range"
   ]
  },
  {
   "cell_type": "code",
   "execution_count": 12,
   "id": "38139a9f",
   "metadata": {},
   "outputs": [
    {
     "name": "stdout",
     "output_type": "stream",
     "text": [
      "0\n",
      "1\n",
      "2\n",
      "3\n",
      "4\n"
     ]
    }
   ],
   "source": [
    "for i in range(5):\n",
    "    print(i)"
   ]
  },
  {
   "cell_type": "code",
   "execution_count": 13,
   "id": "019e373a",
   "metadata": {},
   "outputs": [
    {
     "name": "stdout",
     "output_type": "stream",
     "text": [
      "5\n",
      "6\n",
      "7\n",
      "8\n",
      "9\n"
     ]
    }
   ],
   "source": [
    "for i in range(5, 10):\n",
    "    print(i)"
   ]
  },
  {
   "cell_type": "code",
   "execution_count": 14,
   "id": "675830d9",
   "metadata": {},
   "outputs": [
    {
     "name": "stdout",
     "output_type": "stream",
     "text": [
      "1\n",
      "4\n",
      "7\n"
     ]
    }
   ],
   "source": [
    "for i in range(1, 10, 3):\n",
    "    print(i)"
   ]
  },
  {
   "cell_type": "markdown",
   "id": "9a7bc737",
   "metadata": {},
   "source": [
    "- functions like ranges() and enumerate() only work with looping structures \n",
    "- range () always ends one short of ending number "
   ]
  },
  {
   "cell_type": "code",
   "execution_count": 16,
   "id": "8b675420",
   "metadata": {},
   "outputs": [
    {
     "name": "stdout",
     "output_type": "stream",
     "text": [
      "Natasha Romanoff is Marvel's Black Widow!\n",
      "Tony Stark is Marvel's Iron Man!\n",
      "Stephen Strange is Marvel's Doctor Strange!\n"
     ]
    }
   ],
   "source": [
    "for i in range(len(real_names)):       \n",
    "    real_name = real_names[i]            # indexing each item in the list \n",
    "    super_name = super_names[i]        \n",
    "    print(f\"{real_name} is Marvel's {super_name}!\")"
   ]
  },
  {
   "attachments": {},
   "cell_type": "markdown",
   "id": "123456",
   "metadata": {},
   "source": [
    "# 2 while"
   ]
  },
  {
   "cell_type": "code",
   "execution_count": 17,
   "id": "e537d792",
   "metadata": {},
   "outputs": [
    {
     "name": "stdout",
     "output_type": "stream",
     "text": [
      "0\n",
      "1\n",
      "2\n",
      "3\n",
      "4\n"
     ]
    }
   ],
   "source": [
    "number = 0\n",
    "\n",
    "while number < 5:\n",
    "    print(number)\n",
    "    number += 1"
   ]
  },
  {
   "cell_type": "code",
   "execution_count": 18,
   "id": "3c5b96bc",
   "metadata": {},
   "outputs": [],
   "source": [
    "# keeps running while loop is true\n",
    "# dont need to know how many loops are required to run"
   ]
  },
  {
   "cell_type": "code",
   "execution_count": null,
   "id": "725e898e",
   "metadata": {},
   "outputs": [],
   "source": []
  }
 ],
 "metadata": {
  "kernelspec": {
   "display_name": "base",
   "language": "python",
   "name": "python3"
  },
  "language_info": {
   "codemirror_mode": {
    "name": "ipython",
    "version": 3
   },
   "file_extension": ".py",
   "mimetype": "text/x-python",
   "name": "python",
   "nbconvert_exporter": "python",
   "pygments_lexer": "ipython3",
   "version": "3.13.5"
  },
  "toc": {
   "base_numbering": 1,
   "nav_menu": {},
   "number_sections": true,
   "sideBar": true,
   "skip_h1_title": false,
   "title_cell": "Table of Contents",
   "title_sidebar": "Contents",
   "toc_cell": false,
   "toc_position": {},
   "toc_section_display": true,
   "toc_window_display": false
  }
 },
 "nbformat": 4,
 "nbformat_minor": 5
}
