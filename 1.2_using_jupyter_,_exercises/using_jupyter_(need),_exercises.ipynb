{
 "cells": [
  {
   "attachments": {},
   "cell_type": "markdown",
   "id": "123456",
   "metadata": {},
   "source": [
    "<div style=\"text-align:left;font-size:2em\"><span style=\"font-weight:bolder;font-size:1.25em\">SP2273 | Learning Portfolio</span><br><br><span style=\"font-weight:bold;color:darkred\">Using Jupyter (Good), Exercises</span></div>"
   ]
  },
  {
   "cell_type": "markdown",
   "id": "4d62674d",
   "metadata": {
    "vscode": {
     "languageId": "plaintext"
    }
   },
   "source": [
    "## 1 Quadratic Equations ##"
   ]
  },
  {
   "cell_type": "markdown",
   "id": "6fbbcdc7",
   "metadata": {
    "vscode": {
     "languageId": "plaintext"
    }
   },
   "source": [
    "### Introduction ###"
   ]
  },
  {
   "cell_type": "markdown",
   "id": "3b233a17",
   "metadata": {
    "vscode": {
     "languageId": "plaintext"
    }
   },
   "source": [
    "![](https://upload.wikimedia.org/wikipedia/commons/thumb/f/f8/Polynomialdeg2.svg/300px-Polynomialdeg2.svg.png)"
   ]
  },
  {
   "cell_type": "markdown",
   "id": "499694e4",
   "metadata": {
    "vscode": {
     "languageId": "plaintext"
    }
   },
   "source": [
    "*(Image from the [Wikipedia page on Quadratic equations](https://en.wikipedia.org/wiki/Quadratic_equation))*"
   ]
  },
  {
   "cell_type": "markdown",
   "id": "0f752681",
   "metadata": {
    "vscode": {
     "languageId": "plaintext"
    }
   },
   "source": [
    "The general form of a quadratic equation is:\n",
    "\n",
    "$ax^{2} + bx +c = 0$"
   ]
  },
  {
   "cell_type": "markdown",
   "id": "a6214604",
   "metadata": {
    "vscode": {
     "languageId": "plaintext"
    }
   },
   "source": [
    "### Solutions ###"
   ]
  },
  {
   "cell_type": "markdown",
   "id": "211fadc6",
   "metadata": {
    "vscode": {
     "languageId": "plaintext"
    }
   },
   "source": [
    "Provided $a\\ne 0$, we can use an elementary algebraic method called [completing the square](https://en.wikipedia.org/wiki/Completing_the_square) to show that a quadratic equation has the following solution:"
   ]
  },
  {
   "cell_type": "markdown",
   "id": "b970ec39",
   "metadata": {
    "vscode": {
     "languageId": "plaintext"
    }
   },
   "source": [
    "$x = \\dfrac{-b \\pm \\sqrt{b^2-4ac}}{2a}$"
   ]
  },
  {
   "cell_type": "markdown",
   "id": "fbdaaa33",
   "metadata": {
    "vscode": {
     "languageId": "plaintext"
    }
   },
   "source": [
    "### Discriminant ###"
   ]
  },
  {
   "cell_type": "markdown",
   "id": "fd5c01bf",
   "metadata": {
    "vscode": {
     "languageId": "plaintext"
    }
   },
   "source": [
    "The quantity $\\Delta = b^2 - 4ac$ is called the **discriminant** of the equation and decides the nature of its solutions. The table below shows the various possibilities."
   ]
  },
  {
   "cell_type": "markdown",
   "id": "4cebdd16",
   "metadata": {
    "vscode": {
     "languageId": "plaintext"
    }
   },
   "source": [
    "|     **Discriminant**     | **Roots**                    |\n",
    "|:------------------------:|------------------------------|\n",
    "| $\\Delta = b^2 - 4ac = 0$ | A single solution of $-b/(2a)$ |\n",
    "| $\\Delta = b^2 - 4ac > 0$ | Two distinct solutions       |   \n",
    "| $\\Delta = b^2 - 4ac < 0$ | Two distinct solutions       |   "
   ]
  },
  {
   "cell_type": "markdown",
   "id": "7200dd64",
   "metadata": {
    "vscode": {
     "languageId": "plaintext"
    }
   },
   "source": [
    "## 2 In your own words ##"
   ]
  },
  {
   "cell_type": "markdown",
   "id": "e778dd4e",
   "metadata": {},
   "source": [
    "1. A Git repository is a storage space where information and changes are stored.\n",
    "2. Git keeps track of **changes** in the files in our repository.\n",
    "3. A **commit** is to save changes to the repository.\n",
    "4. A **push** is to send out the changes to the cloud/web \n",
    "5. A **pull** is the get information from the cloud/web to our local repository. \n",
    "6. The difference is one is on my local computer and the other is on the cloud/web "
   ]
  },
  {
   "cell_type": "markdown",
   "id": "92b3f499",
   "metadata": {},
   "source": [
    "## 3 A matter of Statistics ##"
   ]
  },
  {
   "cell_type": "markdown",
   "id": "a22bb6db",
   "metadata": {},
   "source": [
    "$ \\mu = \\frac{1}{n} \\sum_{i=1}^{n} x_i$ "
   ]
  },
  {
   "cell_type": "markdown",
   "id": "8b88b145",
   "metadata": {},
   "source": [
    "$\\sigma = \\sqrt {\\frac{1}{n} \\sum_{i=1}^n (x_i - \\mu)^2}$ "
   ]
  },
  {
   "cell_type": "markdown",
   "id": "d6ba3ee8",
   "metadata": {
    "vscode": {
     "languageId": "tex"
    }
   },
   "source": [
    "$r = \\frac{\\sum_{i=1}^n (x_i - \\mu _X)(y_i - \\mu _Y)}{\\sqrt{\\sum_{i=1}^n(x_i - \\mu _X)^2 \\sum_{i=1}^n (y_i - \\mu _Y)^2}}$ "
   ]
  },
  {
   "attachments": {},
   "cell_type": "markdown",
   "id": "123456",
   "metadata": {},
   "source": [
    "## Footnotes"
   ]
  }
 ],
 "metadata": {
  "kernelspec": {
   "display_name": "base",
   "language": "python",
   "name": "python3"
  },
  "language_info": {
   "codemirror_mode": {
    "name": "ipython",
    "version": 3
   },
   "file_extension": ".py",
   "mimetype": "text/x-python",
   "name": "python",
   "nbconvert_exporter": "python",
   "pygments_lexer": "ipython3",
   "version": "3.13.5"
  },
  "toc": {
   "base_numbering": 1,
   "nav_menu": {},
   "number_sections": true,
   "sideBar": true,
   "skip_h1_title": false,
   "title_cell": "Table of Contents",
   "title_sidebar": "Contents",
   "toc_cell": false,
   "toc_position": {},
   "toc_section_display": true,
   "toc_window_display": false
  }
 },
 "nbformat": 4,
 "nbformat_minor": 5
}
